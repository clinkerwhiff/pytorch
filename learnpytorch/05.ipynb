{
 "cells": [
  {
   "cell_type": "markdown",
   "metadata": {},
   "source": [
    "# PyTorch Going Modular\n",
    "\n",
    "Production code is generally written as a bunch of Python scripts rather than Jupyter Notebooks.  \n",
    "Python scripts take arguments through flags.  \n",
    "An example of a command to run a Python script is `python train.py --model MODEL_NAME --batch_size BATCH_SIZE --lr LEARNING_RATE --num_epochs NUM_EPOCHS`."
   ]
  },
  {
   "cell_type": "markdown",
   "metadata": {},
   "source": [
    "## Structure of code\n",
    "\n",
    "The code is stored in the `module` folder.  \n",
    "`get_data.py` is for downloading the dataset.  \n",
    "`train.py` is the main Python script for training the model."
   ]
  }
 ],
 "metadata": {
  "language_info": {
   "name": "python"
  }
 },
 "nbformat": 4,
 "nbformat_minor": 2
}
